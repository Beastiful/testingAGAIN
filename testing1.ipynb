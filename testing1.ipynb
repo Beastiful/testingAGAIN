{
 "cells": [
  {
   "cell_type": "code",
   "execution_count": null,
   "id": "ecf9c0aa",
   "metadata": {},
   "outputs": [],
   "source": [
    "#testing, testing, testing!!\n",
    "#we love to see it\n",
    "\n",
    "test = 0"
   ]
  }
 ],
 "metadata": {
  "language_info": {
   "name": "python"
  }
 },
 "nbformat": 4,
 "nbformat_minor": 5
}
